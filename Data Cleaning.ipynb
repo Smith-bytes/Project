{
 "cells": [
  {
   "cell_type": "code",
   "execution_count": 2,
   "id": "7b9190b1",
   "metadata": {},
   "outputs": [],
   "source": [
    "# Basic Libraries\n",
    "import numpy as np\n",
    "import pandas as pd\n",
    "import seaborn as sb\n",
    "import matplotlib.pyplot as plt # we only need pyplot\n",
    "sb.set() # set the default Seaborn style for graphics"
   ]
  },
  {
   "cell_type": "code",
   "execution_count": 13,
   "id": "1048cd9a",
   "metadata": {},
   "outputs": [],
   "source": [
    "data_unclean = pd.read_csv('owid-energy-data.csv')"
   ]
  },
  {
   "cell_type": "code",
   "execution_count": 57,
   "id": "b068f292",
   "metadata": {},
   "outputs": [],
   "source": [
    "#Exporting to CSV for further manual cleaning\n",
    "data_clean = data_unclean [['population','gdp','biofuel_cons_per_capita','biofuel_consumption','biofuel_share_energy','coal_cons_per_capita','coal_consumption','coal_share_energy','electricity_demand','energy_per_gdp','gas_consumption','gas_energy_per_capita','gas_share_energy','hydro_consumption','hydro_energy_per_capita','hydro_share_energy','nuclear_consumption','nuclear_energy_per_capita','nuclear_share_energy','oil_consumption','oil_energy_per_capita','oil_share_energy','solar_consumption','solar_energy_per_capita','solar_share_energy','wind_consumption','wind_energy_per_capita','wind_share_energy']]\n",
    "data_clean.to_csv('energyclean.zip', index=False, compression=compression_opts)"
   ]
  },
  {
   "cell_type": "code",
   "execution_count": 6,
   "id": "73a68bfb",
   "metadata": {},
   "outputs": [],
   "source": [
    "#After Manual Cleaning\n",
    "energy=pd.read_csv('energycleannew.csv')\n",
    "finalenergy=energy.dropna()\n",
    "finalenergy.shape\n",
    "compression_opts = dict(method='zip',\n",
    "                        archive_name='cleaned.csv')\n",
    "finalenergy.to_csv('cleaned.zip', index=False, compression=compression_opts)"
   ]
  }
 ],
 "metadata": {
  "kernelspec": {
   "display_name": "Python 3 (ipykernel)",
   "language": "python",
   "name": "python3"
  },
  "language_info": {
   "codemirror_mode": {
    "name": "ipython",
    "version": 3
   },
   "file_extension": ".py",
   "mimetype": "text/x-python",
   "name": "python",
   "nbconvert_exporter": "python",
   "pygments_lexer": "ipython3",
   "version": "3.9.13"
  }
 },
 "nbformat": 4,
 "nbformat_minor": 5
}
