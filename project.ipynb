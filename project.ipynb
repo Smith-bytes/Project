{
 "cells": [
  {
   "cell_type": "code",
   "execution_count": 85,
   "metadata": {},
   "outputs": [],
   "source": [
    "import numpy as np\n",
    "import pandas as pd\n",
    "import seaborn as sb\n",
    "import matplotlib.pyplot as plt # we only need pyplot\n",
    "\n",
    "\n",
    "sb.set() # set the default Seaborn style for graphics"
   ]
  },
  {
   "cell_type": "code",
   "execution_count": 86,
   "metadata": {},
   "outputs": [
    {
     "name": "stdout",
     "output_type": "stream",
     "text": [
      "hellow world\n"
     ]
    }
   ],
   "source": [
    "print('hellow world')"
   ]
  },
  {
   "cell_type": "code",
   "execution_count": 87,
   "metadata": {},
   "outputs": [],
   "source": [
    "energyData = pd.read_csv('owid-energy-data.csv')\n",
    "energyData = pd.DataFrame(energyData)\n",
    "\n",
    "\n",
    "\n",
    "\n",
    "\n",
    "\n"
   ]
  },
  {
   "cell_type": "code",
   "execution_count": 88,
   "metadata": {},
   "outputs": [
    {
     "name": "stdout",
     "output_type": "stream",
     "text": [
      "1900\n",
      "2022\n"
     ]
    }
   ],
   "source": [
    "\n",
    "import json\n",
    "import ipywidgets as widgets\n",
    "from ipyleaflet import Map, GeoJSON, Choropleth, basemaps, LayerGroup\n",
    "import branca.colormap as cm\n",
    "\n",
    "\n",
    "\n",
    "# read the geojson data\n",
    "with open('custom.geo.json') as f:\n",
    "    geo_json_data = json.load(f)\n",
    "    for d in geo_json_data[\"features\"]:\n",
    "        d[\"name\"] = d[\"properties\"][\"name_sort\"]\n",
    "\n",
    "# get the min and max year available\n",
    "min_year = energyData['year'].min()\n",
    "max_year = energyData['year'].max()\n",
    "print(min_year)\n",
    "print(max_year)\n",
    "\n",
    "\n"
   ]
  },
  {
   "cell_type": "code",
   "execution_count": 89,
   "metadata": {},
   "outputs": [
    {
     "data": {
      "application/vnd.jupyter.widget-view+json": {
       "model_id": "540a0ff99913468d8ed0afee9442feb3",
       "version_major": 2,
       "version_minor": 0
      },
      "text/plain": [
       "interactive(children=(IntSlider(value=1900, description='year', max=2022, min=1900), Output()), _dom_classes=(…"
      ]
     },
     "metadata": {},
     "output_type": "display_data"
    },
    {
     "data": {
      "application/vnd.jupyter.widget-view+json": {
       "model_id": "c52296d66d574f819fc2779e7e44eefc",
       "version_major": 2,
       "version_minor": 0
      },
      "text/plain": [
       "Map(center=[0, 0], controls=(ZoomControl(options=['position', 'zoom_in_text', 'zoom_in_title', 'zoom_out_text'…"
      ]
     },
     "metadata": {},
     "output_type": "display_data"
    }
   ],
   "source": [
    "# create the base map\n",
    "m = Map(center=(0, 0), zoom=2, basemap=basemaps.CartoDB.Positron)\n",
    "\n",
    "# create a slider for the year\n",
    "year_slider = widgets.IntSlider(min=min_year, max=max_year, step=1, value=min_year)\n",
    "\n",
    "# create a colormap\n",
    "color_scale = cm.LinearColormap(colors=['green', 'yellow', 'red'], vmin=0, vmax=energyData['gdp'].max())\n",
    "\n",
    "def update_choropleth(year):\n",
    "    # filter the data for the current year and remove the rows where the GDP value is missing\n",
    "    choro_data = energyData.loc[(energyData['year'] == year) & (energyData['gdp'].notna()),]\n",
    "    choro_data  = dict(zip(choro_data[\"country\"].str.strip(), choro_data[\"gdp\"]))\n",
    "    # create a choropleth layer\n",
    "    choropleth_layer = Choropleth(\n",
    "        geo_data=geo_json_data,\n",
    "        choro_data=choro_data,\n",
    "        colormap=color_scale,\n",
    "        style={'fillOpacity': 0.6, 'weight': 0.5},\n",
    "        name='GDP Choropleth',\n",
    "        key_on=\"name\"\n",
    "    )\n",
    "    \n",
    "    # remove the previous choropleth layer (if any) and add the new one\n",
    "    layer_group.clear_layers()\n",
    "    layer_group.add_layer(choropleth_layer)\n",
    "\n",
    "# create a layer group to hold the choropleth layer\n",
    "layer_group = LayerGroup()\n",
    "m.add_layer(layer_group)\n",
    "\n",
    "# add the slider to the map\n",
    "widgets.jslink((year_slider, 'value'), (m, 'zoom')) # to avoid slider to steal the focus\n",
    "widgets.interact(update_choropleth, year=year_slider)\n",
    "\n",
    "# display the map\n",
    "m\n",
    "\n",
    "\n"
   ]
  },
  {
   "cell_type": "code",
   "execution_count": null,
   "metadata": {},
   "outputs": [],
   "source": []
  },
  {
   "cell_type": "code",
   "execution_count": null,
   "metadata": {},
   "outputs": [],
   "source": [
    "\n"
   ]
  }
 ],
 "metadata": {
  "kernelspec": {
   "display_name": "base",
   "language": "python",
   "name": "python3"
  },
  "language_info": {
   "codemirror_mode": {
    "name": "ipython",
    "version": 3
   },
   "file_extension": ".py",
   "mimetype": "text/x-python",
   "name": "python",
   "nbconvert_exporter": "python",
   "pygments_lexer": "ipython3",
   "version": "3.9.13"
  },
  "orig_nbformat": 4
 },
 "nbformat": 4,
 "nbformat_minor": 2
}
